{
 "cells": [
  {
   "cell_type": "markdown",
   "metadata": {},
   "source": [
    "Homework 0"
   ]
  },
  {
   "cell_type": "code",
   "execution_count": 1,
   "metadata": {},
   "outputs": [],
   "source": [
    "import pandas as pd\n",
    "import numpy as np"
   ]
  },
  {
   "cell_type": "code",
   "execution_count": 10,
   "metadata": {},
   "outputs": [
    {
     "data": {
      "text/html": [
       "<div>\n",
       "<style scoped>\n",
       "    .dataframe tbody tr th:only-of-type {\n",
       "        vertical-align: middle;\n",
       "    }\n",
       "\n",
       "    .dataframe tbody tr th {\n",
       "        vertical-align: top;\n",
       "    }\n",
       "\n",
       "    .dataframe thead th {\n",
       "        text-align: right;\n",
       "    }\n",
       "</style>\n",
       "<table border=\"1\" class=\"dataframe\">\n",
       "  <thead>\n",
       "    <tr style=\"text-align: right;\">\n",
       "      <th></th>\n",
       "      <th>Intent</th>\n",
       "      <th>Gender</th>\n",
       "      <th>Age</th>\n",
       "      <th>Race</th>\n",
       "      <th>Deaths</th>\n",
       "      <th>Population</th>\n",
       "      <th>Rate</th>\n",
       "    </tr>\n",
       "  </thead>\n",
       "  <tbody>\n",
       "    <tr>\n",
       "      <th>1</th>\n",
       "      <td>None selected</td>\n",
       "      <td>None selected</td>\n",
       "      <td>None selected</td>\n",
       "      <td>None selected</td>\n",
       "      <td>33599</td>\n",
       "      <td>316299978</td>\n",
       "      <td>10.6</td>\n",
       "    </tr>\n",
       "    <tr>\n",
       "      <th>2</th>\n",
       "      <td>None selected</td>\n",
       "      <td>None selected</td>\n",
       "      <td>None selected</td>\n",
       "      <td>White</td>\n",
       "      <td>22079</td>\n",
       "      <td>197369634</td>\n",
       "      <td>11.2</td>\n",
       "    </tr>\n",
       "    <tr>\n",
       "      <th>3</th>\n",
       "      <td>None selected</td>\n",
       "      <td>None selected</td>\n",
       "      <td>None selected</td>\n",
       "      <td>Black</td>\n",
       "      <td>7765</td>\n",
       "      <td>38896382</td>\n",
       "      <td>20.0</td>\n",
       "    </tr>\n",
       "    <tr>\n",
       "      <th>4</th>\n",
       "      <td>None selected</td>\n",
       "      <td>None selected</td>\n",
       "      <td>None selected</td>\n",
       "      <td>Hispanic</td>\n",
       "      <td>3007</td>\n",
       "      <td>54049078</td>\n",
       "      <td>5.6</td>\n",
       "    </tr>\n",
       "    <tr>\n",
       "      <th>5</th>\n",
       "      <td>None selected</td>\n",
       "      <td>None selected</td>\n",
       "      <td>None selected</td>\n",
       "      <td>Asian/Pacific Islander</td>\n",
       "      <td>442</td>\n",
       "      <td>16315561</td>\n",
       "      <td>2.7</td>\n",
       "    </tr>\n",
       "  </tbody>\n",
       "</table>\n",
       "</div>"
      ],
      "text/plain": [
       "          Intent         Gender            Age                    Race  \\\n",
       "1  None selected  None selected  None selected           None selected   \n",
       "2  None selected  None selected  None selected                   White   \n",
       "3  None selected  None selected  None selected                   Black   \n",
       "4  None selected  None selected  None selected                Hispanic   \n",
       "5  None selected  None selected  None selected  Asian/Pacific Islander   \n",
       "\n",
       "   Deaths  Population  Rate  \n",
       "1   33599   316299978  10.6  \n",
       "2   22079   197369634  11.2  \n",
       "3    7765    38896382  20.0  \n",
       "4    3007    54049078   5.6  \n",
       "5     442    16315561   2.7  "
      ]
     },
     "execution_count": 10,
     "metadata": {},
     "output_type": "execute_result"
    }
   ],
   "source": [
    "path = ('C:/UNI/ADA/GitHub/2024/guns-data/interactive_data.csv')\n",
    "df = pd.read_csv(path, index_col=0)\n",
    "df.head()"
   ]
  },
  {
   "cell_type": "code",
   "execution_count": 11,
   "metadata": {},
   "outputs": [],
   "source": [
    "df_filtered = df.loc[~(df=='None selected').any(axis=1)] #axis 1 = row (the column of each row)"
   ]
  },
  {
   "cell_type": "code",
   "execution_count": 15,
   "metadata": {},
   "outputs": [],
   "source": [
    "# Total deaths\n",
    "tot_deaths = df_filtered['Deaths'].sum()"
   ]
  },
  {
   "cell_type": "code",
   "execution_count": 21,
   "metadata": {},
   "outputs": [
    {
     "data": {
      "text/plain": [
       "0.6268194671826165"
      ]
     },
     "execution_count": 21,
     "metadata": {},
     "output_type": "execute_result"
    }
   ],
   "source": [
    "# Nearly two-thirds of gun deaths are suicides.\n",
    "\n",
    "suicides_df = df_filtered[df_filtered['Intent'] == \"Suicide\"]\n",
    "suicides = suicides_df['Deaths'].sum()\n",
    "prop_suicides = suicides / tot_deaths\n",
    "prop_suicides"
   ]
  },
  {
   "cell_type": "code",
   "execution_count": 27,
   "metadata": {},
   "outputs": [
    {
     "data": {
      "text/plain": [
       "86.24275809668535"
      ]
     },
     "execution_count": 27,
     "metadata": {},
     "output_type": "execute_result"
    }
   ],
   "source": [
    "# More than 85 percent of suicide victims are male.\n",
    "\n",
    "male_suicides = suicides_df[suicides_df['Gender'] == \"Male\"]['Deaths'].sum()\n",
    "perc_male_suicides = (male_suicides / suicides) * 100\n",
    "perc_male_suicides"
   ]
  },
  {
   "cell_type": "code",
   "execution_count": 28,
   "metadata": {},
   "outputs": [
    {
     "data": {
      "text/plain": [
       "0.34906980205387705"
      ]
     },
     "execution_count": 28,
     "metadata": {},
     "output_type": "execute_result"
    }
   ],
   "source": [
    "# Around a third of all gun deaths are homicides.\n",
    "\n",
    "homicide_df = df_filtered[df_filtered['Intent'] == \"Homicide\"]\n",
    "homicide = homicide_df['Deaths'].sum()\n",
    "prop_homicide = homicide / tot_deaths\n",
    "prop_homicide"
   ]
  },
  {
   "cell_type": "code",
   "execution_count": 32,
   "metadata": {},
   "outputs": [
    {
     "name": "stderr",
     "output_type": "stream",
     "text": [
      "C:\\Users\\gerry\\AppData\\Local\\Temp\\ipykernel_22768\\3945058307.py:3: UserWarning: Boolean Series key will be reindexed to match DataFrame index.\n",
      "  black_homicide = homicide_df[homicide_df['Gender'] == \"Male\"][homicide_df['Age'] == \"15 - 34\"][homicide_df['Race'] == \"Black\"]['Deaths'].sum()\n",
      "C:\\Users\\gerry\\AppData\\Local\\Temp\\ipykernel_22768\\3945058307.py:3: UserWarning: Boolean Series key will be reindexed to match DataFrame index.\n",
      "  black_homicide = homicide_df[homicide_df['Gender'] == \"Male\"][homicide_df['Age'] == \"15 - 34\"][homicide_df['Race'] == \"Black\"]['Deaths'].sum()\n"
     ]
    },
    {
     "data": {
      "text/plain": [
       "4312"
      ]
     },
     "execution_count": 32,
     "metadata": {},
     "output_type": "execute_result"
    }
   ],
   "source": [
    "# Around two-thirds of homicide victims who are males in the age-group of 15--34 are black.\n",
    "\n",
    "black_homicide = homicide_df[homicide_df['Gender'] == \"Male\"][homicide_df['Age'] == \"15 - 34\"][homicide_df['Race'] == \"Black\"]['Deaths'].sum()\n",
    "\n",
    "# easier\n",
    "black_homicide_2 = homicide_df[\n",
    "                    (homicide_df['Gender'] == \"Male\") &\n",
    "                    (homicide_df['Age'] == \"15 - 34\") &\n",
    "                    (homicide_df['Race'] == \"Black\")\n",
    "]['Deaths'].sum()\n",
    "black_homicide_2"
   ]
  },
  {
   "cell_type": "code",
   "execution_count": 35,
   "metadata": {},
   "outputs": [
    {
     "data": {
      "text/plain": [
       "15.289502856655583"
      ]
     },
     "execution_count": 35,
     "metadata": {},
     "output_type": "execute_result"
    }
   ],
   "source": [
    "# Women constitue only 15 percent of the total homicide victims.\n",
    "\n",
    "female_homicide = homicide_df[homicide_df['Gender'] == \"Female\"]['Deaths'].sum()\n",
    "perc_female_homicide = (female_homicide / homicide) * 100\n",
    "perc_female_homicide\n",
    "\n",
    "# easier\n",
    "print(f'Women constitue only {female_homicide/homicide*100}% of the total homicide victims.')"
   ]
  },
  {
   "cell_type": "code",
   "execution_count": null,
   "metadata": {},
   "outputs": [],
   "source": []
  }
 ],
 "metadata": {
  "kernelspec": {
   "display_name": "ada",
   "language": "python",
   "name": "python3"
  },
  "language_info": {
   "codemirror_mode": {
    "name": "ipython",
    "version": 3
   },
   "file_extension": ".py",
   "mimetype": "text/x-python",
   "name": "python",
   "nbconvert_exporter": "python",
   "pygments_lexer": "ipython3",
   "version": "3.11.9"
  }
 },
 "nbformat": 4,
 "nbformat_minor": 2
}
