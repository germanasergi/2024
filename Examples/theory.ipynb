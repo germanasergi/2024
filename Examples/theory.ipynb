{
 "cells": [
  {
   "cell_type": "markdown",
   "metadata": {},
   "source": [
    "Considering the regression summary:\n",
    "   - What does the intercept in this regression represent? \n",
    "   - What does the coefficient `C(season, Treatment(reference=\"s01\"))[T.s09]` represent? \n",
    "   - Does the average utterance in season 9 contain significantly more characters than in season 1 at the 0.05 significance level? Justify with the regression summary **only**. \n",
    "   - Does the average utterance in season 10 contain significantly more characters than in season 1 at the 0.05 significance level? Justify with the regression summary  **only** ."
   ]
  },
  {
   "cell_type": "code",
   "execution_count": null,
   "metadata": {},
   "outputs": [],
   "source": [
    "# B. Considering the regression summary:\n",
    "# - The intercept represents the average utterance length in Season 1.\n",
    "# - The coefficient `C(season, Treatment(reference=\"s01\"))[T.s09]` represents the difference in the average\n",
    "#      utterance length between Season 9 and Season 1.\n",
    "# - Yes, because $p$ associated with `C(season, Treatment(reference=\"s01\"))[T.s09]` is smaller than 0.05.\n",
    "# -  No, because $p$ associated with `C(season, Treatment(reference=\"s01\"))[T.s10]` is  bigger than 0.05."
   ]
  },
  {
   "cell_type": "markdown",
   "metadata": {},
   "source": []
  }
 ],
 "metadata": {
  "kernelspec": {
   "display_name": "ada",
   "language": "python",
   "name": "python3"
  },
  "language_info": {
   "name": "python",
   "version": "3.11.9"
  }
 },
 "nbformat": 4,
 "nbformat_minor": 2
}
